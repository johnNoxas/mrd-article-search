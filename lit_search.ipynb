{
 "cells": [
  {
   "cell_type": "code",
   "execution_count": 1,
   "metadata": {},
   "outputs": [],
   "source": [
    "from Bio import Entrez\n",
    "import pandas as pd\n",
    "import time\n",
    "import numpy as np\n",
    "Entrez.email = \"john.saxon2002@gmail.com\""
   ]
  },
  {
   "cell_type": "code",
   "execution_count": null,
   "metadata": {},
   "outputs": [],
   "source": [
    "def search_pubmed(query, max_results=99999):\n",
    "    \"\"\"Search PubMed and return article titles and IDs.\"\"\"\n",
    "    # Search PubMed\n",
    "    handle = Entrez.esearch(db=\"pubmed\", term=query, retmax=max_results)\n",
    "    record = Entrez.read(handle)\n",
    "    handle.close()\n",
    "    \n",
    "    # Extract PubMed IDs\n",
    "    pubmed_ids = record[\"IdList\"]\n",
    "    if not pubmed_ids:\n",
    "        print(f\"No results found for query: {query}\")\n",
    "        return [], []\n",
    "    \n",
    "    # Fetch article details\n",
    "    handle = Entrez.efetch(db=\"pubmed\", id=\",\".join(pubmed_ids), retmode=\"xml\")\n",
    "    print(\"Fetching articles...\")\n",
    "    records = Entrez.read(handle)\n",
    "    handle.close()\n",
    "\n",
    "    # Extract details\n",
    "    articles = []\n",
    "    for article in records[\"PubmedArticle\"]:\n",
    "        medline = article[\"MedlineCitation\"]\n",
    "        article_data = medline[\"Article\"]\n",
    "\n",
    "        # Extract fields\n",
    "        pmid = medline[\"PMID\"]\n",
    "        title = article_data[\"ArticleTitle\"]\n",
    "        authors = \", \".join([author[\"LastName\"] + \" \" + author[\"ForeName\"]\n",
    "                            for author in article_data.get(\"AuthorList\", []) \n",
    "                            if \"LastName\" in author and \"ForeName\" in author])\n",
    "        journal = article_data[\"Journal\"][\"Title\"]\n",
    "        pub_date = article_data[\"Journal\"][\"JournalIssue\"][\"PubDate\"]\n",
    "        abstract = article_data.get(\"Abstract\", {}).get(\"AbstractText\", [\"No abstract available\"])[0]\n",
    "        pub_type = \", \".join(article_data.get(\"PublicationTypeList\", []))\n",
    "        mesh_terms = \", \".join([term[\"DescriptorName\"] for term in medline.get(\"MeshHeadingList\", [])])\n",
    "        if medline.get(\"KeywordList\"):\n",
    "            key_words = medline[\"KeywordList\"][0]\n",
    "        else:\n",
    "            key_words = []\n",
    "        data_bank_list = article_data.get(\"DataBankList\", [])\n",
    "        publication_type_list = article_data.get(\"PublicationTypeList\", [])\n",
    "\n",
    "        # Append to results\n",
    "        articles.append({\n",
    "            \"PMID\": pmid,\n",
    "            \"Title\": title,\n",
    "            \"Authors\": authors if authors else \"No authors listed\",\n",
    "            \"Journal\": journal,\n",
    "            \"PublicationDate\": pub_date,\n",
    "            \"Abstract\": abstract,\n",
    "            \"PublicationType\": pub_type,\n",
    "            \"MeSHTerms\": mesh_terms,\n",
    "            \"KeyWords\": key_words,\n",
    "            \"DataBankList\": data_bank_list,\n",
    "            \"PublicationTypeList\": publication_type_list\n",
    "        })\n",
    "    print(f\"Fetched {len(articles)} articles successfully.\")\n",
    "    return articles, records"
   ]
  },
  {
   "cell_type": "code",
   "execution_count": 40,
   "metadata": {},
   "outputs": [],
   "source": [
    "SEARCH_1 = '\"leukemia, myeloid, acute\"[MeSH Terms] AND hasdatabanklist AND (\"2021/12/30\"[Date - Publication] : \"3000\"[Date - Publication])'"
   ]
  },
  {
   "cell_type": "code",
   "execution_count": 41,
   "metadata": {},
   "outputs": [
    {
     "name": "stdout",
     "output_type": "stream",
     "text": [
      "Fetching articles...\n"
     ]
    }
   ],
   "source": [
    "articles, records = search_pubmed(SEARCH_1, max_results=99999)"
   ]
  },
  {
   "cell_type": "code",
   "execution_count": 42,
   "metadata": {},
   "outputs": [],
   "source": [
    "articles_df = pd.DataFrame(articles)\n",
    "articles_df[\"DataBankName\"] = articles_df[\"DataBankList\"].apply(lambda row: row[0].get(\"DataBankName\"))\n",
    "articles_df[\"Accession\"] = articles_df[\"DataBankList\"].apply(lambda row: row[0].get(\"AccessionNumberList\")[0])\n",
    "\n",
    "articles_df.to_csv(\"lit_search_articles_since_2022.csv\", index=False)"
   ]
  },
  {
   "cell_type": "code",
   "execution_count": 43,
   "metadata": {},
   "outputs": [
    {
     "data": {
      "text/plain": [
       "0         \n",
       "Aged          221\n",
       "Adult         123\n",
       "Child          30\n",
       "Adolescent     27\n",
       "Name: count, dtype: int64"
      ]
     },
     "execution_count": 43,
     "metadata": {},
     "output_type": "execute_result"
    }
   ],
   "source": [
    "articles_df[\"MeSHTerms\"].str.extractall(\"(Aged|Adolescent|Child|Adult)\").value_counts()"
   ]
  },
  {
   "cell_type": "code",
   "execution_count": 44,
   "metadata": {},
   "outputs": [
    {
     "data": {
      "text/plain": [
       "DataBankName\n",
       "ClinicalTrials.gov    246\n",
       "GEO                    11\n",
       "ChiCTR                  6\n",
       "figshare                5\n",
       "Dryad                   3\n",
       "ISRCTN                  3\n",
       "RefSeq                  1\n",
       "ANZCTR                  1\n",
       "EudraCT                 1\n",
       "Name: count, dtype: int64"
      ]
     },
     "execution_count": 44,
     "metadata": {},
     "output_type": "execute_result"
    }
   ],
   "source": [
    "articles_df[\"DataBankName\"].value_counts()"
   ]
  },
  {
   "cell_type": "code",
   "execution_count": 45,
   "metadata": {},
   "outputs": [],
   "source": [
    "pd.DataFrame(articles_df[\"MeSHTerms\"].str.split(\", \").explode().value_counts()).to_csv(\"mesh_terms.csv\", index=True, header=False)"
   ]
  },
  {
   "cell_type": "markdown",
   "metadata": {},
   "source": [
    "Add CT Data"
   ]
  },
  {
   "cell_type": "code",
   "execution_count": 51,
   "metadata": {},
   "outputs": [],
   "source": [
    "import requests, json\n",
    "\n",
    "# Function to format outcomes as markdown\n",
    "def format_outcomes(outcomes):\n",
    "    if not outcomes:\n",
    "        return \"None\"\n",
    "    md = []\n",
    "    for outcome in outcomes:\n",
    "        measure = outcome.get(\"measure\", \"No measure provided\")\n",
    "        description = outcome.get(\"description\", \"No description provided\")\n",
    "        time_frame = outcome.get(\"timeFrame\", \"No time frame provided\")\n",
    "        md.append(f\"**{measure}**\\n\\n{description}\\n\\n*Time Frame:* {time_frame}\\n\")\n",
    "    return \"\\n\".join(md)\n",
    "\n",
    "def get_clinical_trial(nct_id, fields= [\n",
    "        \"protocolSection.identificationModule.briefTitle\",\n",
    "        \"protocolSection.identificationModule.officialTitle\",\n",
    "        \"protocolSection.descriptionModule.briefSummary\",\n",
    "        \"protocolSection.statusModule.overallStatus\",\n",
    "        \"protocolSection.statusModule.startDateStruct.date\",\n",
    "        \"protocolSection.statusModule.primaryCompletionDateStruct.date\",\n",
    "        \"protocolSection.designModule.studyType\",\n",
    "        \"protocolSection.designModule.phases\",\n",
    "        \"protocolSection.designModule.enrollmentInfo.count\",\n",
    "        \"protocolSection.outcomesModule.primaryOutcomes\",\n",
    "        \"protocolSection.outcomesModule.secondaryOutcomes\",\n",
    "        \"protocolSection.outcomesModule.otherOutcomes\"\n",
    "    ]):\n",
    "    \n",
    "    field_str = \",\".join(fields)\n",
    "    url = f\"https://clinicaltrials.gov/api/v2/studies/{nct_id}?fields={field_str}\"\n",
    "    \n",
    "    try:\n",
    "        response = requests.get(url)\n",
    "        response.raise_for_status()  # Raise an error for bad responses (4xx or 5xx)\n",
    "        data = response.json()\n",
    "\n",
    "        # Extracting the required fields\n",
    "        extracted_data = {}\n",
    "        \n",
    "        if data[\"protocolSection\"].get(\"identificationModule\") is None:\n",
    "            print(f\"No identification module found for NCT ID: {nct_id}\")\n",
    "            extracted_data = {\n",
    "                \"briefTitle\": None,\n",
    "                \"officialTitle\": None,\n",
    "            }\n",
    "        else:\n",
    "            extracted_data[\"briefTitle\"] = data[\"protocolSection\"][\"identificationModule\"].get(\"briefTitle\", None)\n",
    "            extracted_data[\"officialTitle\"] = data[\"protocolSection\"][\"identificationModule\"].get(\"officialTitle\", None)\n",
    "        \n",
    "        if data[\"protocolSection\"].get(\"descriptionModule\") is None:   \n",
    "            print(f\"No description module found for NCT ID: {nct_id}\")\n",
    "            extracted_data[\"summary\"] = None\n",
    "        else:\n",
    "            extracted_data[\"summary\"] = data[\"protocolSection\"][\"descriptionModule\"].get(\"briefSummary\", None)\n",
    "        \n",
    "        if data[\"protocolSection\"].get(\"statusModule\") is None:\n",
    "            print(f\"No status module found for NCT ID: {nct_id}\")\n",
    "            extracted_data[\"startDate\"] = None\n",
    "            extracted_data[\"completionDate\"] = None\n",
    "        else:\n",
    "            extracted_data[\"startDate\"] = data[\"protocolSection\"][\"statusModule\"].get(\"startDateStruct\", {}).get(\"date\", None)\n",
    "            extracted_data[\"completionDate\"] = data[\"protocolSection\"][\"statusModule\"].get(\"primaryCompletionDateStruct\", {}).get(\"date\", None)\n",
    "        \n",
    "        if data[\"protocolSection\"].get(\"designModule\") is None:\n",
    "            print(f\"No design module found for NCT ID: {nct_id}\")\n",
    "            extracted_data[\"phases\"] = None\n",
    "            extracted_data[\"numParticipants\"] = None\n",
    "        else:\n",
    "            extracted_data[\"phases\"] = \", \".join(data[\"protocolSection\"][\"designModule\"].get(\"phases\", []))\n",
    "            extracted_data[\"numParticipants\"] = str(data[\"protocolSection\"][\"designModule\"][\"enrollmentInfo\"].get(\"count\", None))\n",
    "        \n",
    "        if data[\"protocolSection\"].get(\"outcomesModule\") is None:\n",
    "            print(f\"No outcomes module found for NCT ID: {nct_id}\")\n",
    "            extracted_data[\"primaryOutcomes\"] = None\n",
    "            extracted_data[\"secondaryOutcomes\"] = None\n",
    "            extracted_data[\"otherOutcomes\"] = None\n",
    "        else:\n",
    "            extracted_data[\"primaryOutcomes\"] = format_outcomes(data[\"protocolSection\"][\"outcomesModule\"].get(\"primaryOutcomes\", []))\n",
    "            extracted_data[\"secondaryOutcomes\"] = format_outcomes(data[\"protocolSection\"][\"outcomesModule\"].get(\"secondaryOutcomes\", []))\n",
    "            extracted_data[\"otherOutcomes\"] = format_outcomes(data[\"protocolSection\"][\"outcomesModule\"].get(\"otherOutcomes\", []))\n",
    "\n",
    "        return extracted_data  # Return extracted data\n",
    "    \n",
    "    except requests.exceptions.RequestException as e:\n",
    "        print(f\"Error fetching data: {e}\")\n",
    "        return {\n",
    "            \"briefTitle\": None,\n",
    "            \"officialTitle\": None,\n",
    "            \"summary\": None,\n",
    "            \"startDate\":None,\n",
    "            \"completionDate\": None,\n",
    "            \"phases\": None,\n",
    "            \"numParticipants\": None,\n",
    "            \"primaryOutcomes\": None,\n",
    "            \"secondaryOutcomes\": None,\n",
    "            \"otherOutcomes\": None,\n",
    "        }\n"
   ]
  },
  {
   "cell_type": "code",
   "execution_count": 52,
   "metadata": {},
   "outputs": [
    {
     "name": "stdout",
     "output_type": "stream",
     "text": [
      "Error fetching data: 404 Client Error: Not Found for url: https://clinicaltrials.gov/api/v2/studies/10.5061/dryad.h9w0vt4t2?fields=protocolSection.identificationModule.briefTitle,protocolSection.identificationModule.officialTitle,protocolSection.descriptionModule.briefSummary,protocolSection.statusModule.overallStatus,protocolSection.statusModule.startDateStruct.date,protocolSection.statusModule.primaryCompletionDateStruct.date,protocolSection.designModule.studyType,protocolSection.designModule.phases,protocolSection.designModule.enrollmentInfo.count,protocolSection.outcomesModule.primaryOutcomes,protocolSection.outcomesModule.secondaryOutcomes,protocolSection.outcomesModule.otherOutcomes\n",
      "Error fetching data: 404 Client Error: Not Found for url: https://clinicaltrials.gov/api/v2/studies/10.6084/m9.figshare.25013561.v1?fields=protocolSection.identificationModule.briefTitle,protocolSection.identificationModule.officialTitle,protocolSection.descriptionModule.briefSummary,protocolSection.statusModule.overallStatus,protocolSection.statusModule.startDateStruct.date,protocolSection.statusModule.primaryCompletionDateStruct.date,protocolSection.designModule.studyType,protocolSection.designModule.phases,protocolSection.designModule.enrollmentInfo.count,protocolSection.outcomesModule.primaryOutcomes,protocolSection.outcomesModule.secondaryOutcomes,protocolSection.outcomesModule.otherOutcomes\n",
      "Error fetching data: 404 Client Error: Not Found for url: https://clinicaltrials.gov/api/v2/studies/10.6084/m9.figshare.26891560.v1?fields=protocolSection.identificationModule.briefTitle,protocolSection.identificationModule.officialTitle,protocolSection.descriptionModule.briefSummary,protocolSection.statusModule.overallStatus,protocolSection.statusModule.startDateStruct.date,protocolSection.statusModule.primaryCompletionDateStruct.date,protocolSection.designModule.studyType,protocolSection.designModule.phases,protocolSection.designModule.enrollmentInfo.count,protocolSection.outcomesModule.primaryOutcomes,protocolSection.outcomesModule.secondaryOutcomes,protocolSection.outcomesModule.otherOutcomes\n",
      "Error fetching data: 404 Client Error: Not Found for url: https://clinicaltrials.gov/api/v2/studies/10.5061/dryad.cvdncjtcx?fields=protocolSection.identificationModule.briefTitle,protocolSection.identificationModule.officialTitle,protocolSection.descriptionModule.briefSummary,protocolSection.statusModule.overallStatus,protocolSection.statusModule.startDateStruct.date,protocolSection.statusModule.primaryCompletionDateStruct.date,protocolSection.designModule.studyType,protocolSection.designModule.phases,protocolSection.designModule.enrollmentInfo.count,protocolSection.outcomesModule.primaryOutcomes,protocolSection.outcomesModule.secondaryOutcomes,protocolSection.outcomesModule.otherOutcomes\n",
      "Error fetching data: 400 Client Error: Bad Request for url: https://clinicaltrials.gov/api/v2/studies/ISRCTN-31682779?fields=protocolSection.identificationModule.briefTitle,protocolSection.identificationModule.officialTitle,protocolSection.descriptionModule.briefSummary,protocolSection.statusModule.overallStatus,protocolSection.statusModule.startDateStruct.date,protocolSection.statusModule.primaryCompletionDateStruct.date,protocolSection.designModule.studyType,protocolSection.designModule.phases,protocolSection.designModule.enrollmentInfo.count,protocolSection.outcomesModule.primaryOutcomes,protocolSection.outcomesModule.secondaryOutcomes,protocolSection.outcomesModule.otherOutcomes\n",
      "Error fetching data: 400 Client Error: Bad Request for url: https://clinicaltrials.gov/api/v2/studies/NM_006472.6?fields=protocolSection.identificationModule.briefTitle,protocolSection.identificationModule.officialTitle,protocolSection.descriptionModule.briefSummary,protocolSection.statusModule.overallStatus,protocolSection.statusModule.startDateStruct.date,protocolSection.statusModule.primaryCompletionDateStruct.date,protocolSection.designModule.studyType,protocolSection.designModule.phases,protocolSection.designModule.enrollmentInfo.count,protocolSection.outcomesModule.primaryOutcomes,protocolSection.outcomesModule.secondaryOutcomes,protocolSection.outcomesModule.otherOutcomes\n",
      "Error fetching data: 400 Client Error: Bad Request for url: https://clinicaltrials.gov/api/v2/studies/GSE256495?fields=protocolSection.identificationModule.briefTitle,protocolSection.identificationModule.officialTitle,protocolSection.descriptionModule.briefSummary,protocolSection.statusModule.overallStatus,protocolSection.statusModule.startDateStruct.date,protocolSection.statusModule.primaryCompletionDateStruct.date,protocolSection.designModule.studyType,protocolSection.designModule.phases,protocolSection.designModule.enrollmentInfo.count,protocolSection.outcomesModule.primaryOutcomes,protocolSection.outcomesModule.secondaryOutcomes,protocolSection.outcomesModule.otherOutcomes\n",
      "Error fetching data: 400 Client Error: Bad Request for url: https://clinicaltrials.gov/api/v2/studies/GSE247483?fields=protocolSection.identificationModule.briefTitle,protocolSection.identificationModule.officialTitle,protocolSection.descriptionModule.briefSummary,protocolSection.statusModule.overallStatus,protocolSection.statusModule.startDateStruct.date,protocolSection.statusModule.primaryCompletionDateStruct.date,protocolSection.designModule.studyType,protocolSection.designModule.phases,protocolSection.designModule.enrollmentInfo.count,protocolSection.outcomesModule.primaryOutcomes,protocolSection.outcomesModule.secondaryOutcomes,protocolSection.outcomesModule.otherOutcomes\n",
      "Error fetching data: 400 Client Error: Bad Request for url: https://clinicaltrials.gov/api/v2/studies/ACTRN12619000746134?fields=protocolSection.identificationModule.briefTitle,protocolSection.identificationModule.officialTitle,protocolSection.descriptionModule.briefSummary,protocolSection.statusModule.overallStatus,protocolSection.statusModule.startDateStruct.date,protocolSection.statusModule.primaryCompletionDateStruct.date,protocolSection.designModule.studyType,protocolSection.designModule.phases,protocolSection.designModule.enrollmentInfo.count,protocolSection.outcomesModule.primaryOutcomes,protocolSection.outcomesModule.secondaryOutcomes,protocolSection.outcomesModule.otherOutcomes\n",
      "No outcomes module found for NCT ID: NCT00129168\n",
      "Error fetching data: 400 Client Error: Bad Request for url: https://clinicaltrials.gov/api/v2/studies/ChiCTR2000037928?fields=protocolSection.identificationModule.briefTitle,protocolSection.identificationModule.officialTitle,protocolSection.descriptionModule.briefSummary,protocolSection.statusModule.overallStatus,protocolSection.statusModule.startDateStruct.date,protocolSection.statusModule.primaryCompletionDateStruct.date,protocolSection.designModule.studyType,protocolSection.designModule.phases,protocolSection.designModule.enrollmentInfo.count,protocolSection.outcomesModule.primaryOutcomes,protocolSection.outcomesModule.secondaryOutcomes,protocolSection.outcomesModule.otherOutcomes\n",
      "Error fetching data: 400 Client Error: Bad Request for url: https://clinicaltrials.gov/api/v2/studies/ISRCTN78449203?fields=protocolSection.identificationModule.briefTitle,protocolSection.identificationModule.officialTitle,protocolSection.descriptionModule.briefSummary,protocolSection.statusModule.overallStatus,protocolSection.statusModule.startDateStruct.date,protocolSection.statusModule.primaryCompletionDateStruct.date,protocolSection.designModule.studyType,protocolSection.designModule.phases,protocolSection.designModule.enrollmentInfo.count,protocolSection.outcomesModule.primaryOutcomes,protocolSection.outcomesModule.secondaryOutcomes,protocolSection.outcomesModule.otherOutcomes\n",
      "Error fetching data: 400 Client Error: Bad Request for url: https://clinicaltrials.gov/api/v2/studies/GSE226688?fields=protocolSection.identificationModule.briefTitle,protocolSection.identificationModule.officialTitle,protocolSection.descriptionModule.briefSummary,protocolSection.statusModule.overallStatus,protocolSection.statusModule.startDateStruct.date,protocolSection.statusModule.primaryCompletionDateStruct.date,protocolSection.designModule.studyType,protocolSection.designModule.phases,protocolSection.designModule.enrollmentInfo.count,protocolSection.outcomesModule.primaryOutcomes,protocolSection.outcomesModule.secondaryOutcomes,protocolSection.outcomesModule.otherOutcomes\n",
      "Error fetching data: 400 Client Error: Bad Request for url: https://clinicaltrials.gov/api/v2/studies/GSE202107?fields=protocolSection.identificationModule.briefTitle,protocolSection.identificationModule.officialTitle,protocolSection.descriptionModule.briefSummary,protocolSection.statusModule.overallStatus,protocolSection.statusModule.startDateStruct.date,protocolSection.statusModule.primaryCompletionDateStruct.date,protocolSection.designModule.studyType,protocolSection.designModule.phases,protocolSection.designModule.enrollmentInfo.count,protocolSection.outcomesModule.primaryOutcomes,protocolSection.outcomesModule.secondaryOutcomes,protocolSection.outcomesModule.otherOutcomes\n",
      "Error fetching data: 400 Client Error: Bad Request for url: https://clinicaltrials.gov/api/v2/studies/2010-023409-37?fields=protocolSection.identificationModule.briefTitle,protocolSection.identificationModule.officialTitle,protocolSection.descriptionModule.briefSummary,protocolSection.statusModule.overallStatus,protocolSection.statusModule.startDateStruct.date,protocolSection.statusModule.primaryCompletionDateStruct.date,protocolSection.designModule.studyType,protocolSection.designModule.phases,protocolSection.designModule.enrollmentInfo.count,protocolSection.outcomesModule.primaryOutcomes,protocolSection.outcomesModule.secondaryOutcomes,protocolSection.outcomesModule.otherOutcomes\n",
      "Error fetching data: 400 Client Error: Bad Request for url: https://clinicaltrials.gov/api/v2/studies/ChiCTR1900026574?fields=protocolSection.identificationModule.briefTitle,protocolSection.identificationModule.officialTitle,protocolSection.descriptionModule.briefSummary,protocolSection.statusModule.overallStatus,protocolSection.statusModule.startDateStruct.date,protocolSection.statusModule.primaryCompletionDateStruct.date,protocolSection.designModule.studyType,protocolSection.designModule.phases,protocolSection.designModule.enrollmentInfo.count,protocolSection.outcomesModule.primaryOutcomes,protocolSection.outcomesModule.secondaryOutcomes,protocolSection.outcomesModule.otherOutcomes\n",
      "Error fetching data: 400 Client Error: Bad Request for url: https://clinicaltrials.gov/api/v2/studies/ChiCTR1800016458?fields=protocolSection.identificationModule.briefTitle,protocolSection.identificationModule.officialTitle,protocolSection.descriptionModule.briefSummary,protocolSection.statusModule.overallStatus,protocolSection.statusModule.startDateStruct.date,protocolSection.statusModule.primaryCompletionDateStruct.date,protocolSection.designModule.studyType,protocolSection.designModule.phases,protocolSection.designModule.enrollmentInfo.count,protocolSection.outcomesModule.primaryOutcomes,protocolSection.outcomesModule.secondaryOutcomes,protocolSection.outcomesModule.otherOutcomes\n",
      "No outcomes module found for NCT ID: NCT00233909\n",
      "Error fetching data: 400 Client Error: Bad Request for url: https://clinicaltrials.gov/api/v2/studies/ISRCTN16865769?fields=protocolSection.identificationModule.briefTitle,protocolSection.identificationModule.officialTitle,protocolSection.descriptionModule.briefSummary,protocolSection.statusModule.overallStatus,protocolSection.statusModule.startDateStruct.date,protocolSection.statusModule.primaryCompletionDateStruct.date,protocolSection.designModule.studyType,protocolSection.designModule.phases,protocolSection.designModule.enrollmentInfo.count,protocolSection.outcomesModule.primaryOutcomes,protocolSection.outcomesModule.secondaryOutcomes,protocolSection.outcomesModule.otherOutcomes\n",
      "Error fetching data: 404 Client Error: Not Found for url: https://clinicaltrials.gov/api/v2/studies/CTRI/2020/02/%20023236?fields=protocolSection.identificationModule.briefTitle,protocolSection.identificationModule.officialTitle,protocolSection.descriptionModule.briefSummary,protocolSection.statusModule.overallStatus,protocolSection.statusModule.startDateStruct.date,protocolSection.statusModule.primaryCompletionDateStruct.date,protocolSection.designModule.studyType,protocolSection.designModule.phases,protocolSection.designModule.enrollmentInfo.count,protocolSection.outcomesModule.primaryOutcomes,protocolSection.outcomesModule.secondaryOutcomes,protocolSection.outcomesModule.otherOutcomes\n",
      "Error fetching data: 400 Client Error: Bad Request for url: https://clinicaltrials.gov/api/v2/studies/ISRCTN78449203?fields=protocolSection.identificationModule.briefTitle,protocolSection.identificationModule.officialTitle,protocolSection.descriptionModule.briefSummary,protocolSection.statusModule.overallStatus,protocolSection.statusModule.startDateStruct.date,protocolSection.statusModule.primaryCompletionDateStruct.date,protocolSection.designModule.studyType,protocolSection.designModule.phases,protocolSection.designModule.enrollmentInfo.count,protocolSection.outcomesModule.primaryOutcomes,protocolSection.outcomesModule.secondaryOutcomes,protocolSection.outcomesModule.otherOutcomes\n",
      "Error fetching data: 400 Client Error: Bad Request for url: https://clinicaltrials.gov/api/v2/studies/ChiCTR2200065106?fields=protocolSection.identificationModule.briefTitle,protocolSection.identificationModule.officialTitle,protocolSection.descriptionModule.briefSummary,protocolSection.statusModule.overallStatus,protocolSection.statusModule.startDateStruct.date,protocolSection.statusModule.primaryCompletionDateStruct.date,protocolSection.designModule.studyType,protocolSection.designModule.phases,protocolSection.designModule.enrollmentInfo.count,protocolSection.outcomesModule.primaryOutcomes,protocolSection.outcomesModule.secondaryOutcomes,protocolSection.outcomesModule.otherOutcomes\n",
      "Error fetching data: 404 Client Error: Not Found for url: https://clinicaltrials.gov/api/v2/studies/10.6084/m9.figshare.21200566.V3?fields=protocolSection.identificationModule.briefTitle,protocolSection.identificationModule.officialTitle,protocolSection.descriptionModule.briefSummary,protocolSection.statusModule.overallStatus,protocolSection.statusModule.startDateStruct.date,protocolSection.statusModule.primaryCompletionDateStruct.date,protocolSection.designModule.studyType,protocolSection.designModule.phases,protocolSection.designModule.enrollmentInfo.count,protocolSection.outcomesModule.primaryOutcomes,protocolSection.outcomesModule.secondaryOutcomes,protocolSection.outcomesModule.otherOutcomes\n",
      "Error fetching data: 400 Client Error: Bad Request for url: https://clinicaltrials.gov/api/v2/studies/ChiCTR1900027684?fields=protocolSection.identificationModule.briefTitle,protocolSection.identificationModule.officialTitle,protocolSection.descriptionModule.briefSummary,protocolSection.statusModule.overallStatus,protocolSection.statusModule.startDateStruct.date,protocolSection.statusModule.primaryCompletionDateStruct.date,protocolSection.designModule.studyType,protocolSection.designModule.phases,protocolSection.designModule.enrollmentInfo.count,protocolSection.outcomesModule.primaryOutcomes,protocolSection.outcomesModule.secondaryOutcomes,protocolSection.outcomesModule.otherOutcomes\n",
      "Error fetching data: 400 Client Error: Bad Request for url: https://clinicaltrials.gov/api/v2/studies/GSE218505?fields=protocolSection.identificationModule.briefTitle,protocolSection.identificationModule.officialTitle,protocolSection.descriptionModule.briefSummary,protocolSection.statusModule.overallStatus,protocolSection.statusModule.startDateStruct.date,protocolSection.statusModule.primaryCompletionDateStruct.date,protocolSection.designModule.studyType,protocolSection.designModule.phases,protocolSection.designModule.enrollmentInfo.count,protocolSection.outcomesModule.primaryOutcomes,protocolSection.outcomesModule.secondaryOutcomes,protocolSection.outcomesModule.otherOutcomes\n",
      "Error fetching data: 400 Client Error: Bad Request for url: https://clinicaltrials.gov/api/v2/studies/GSE158728?fields=protocolSection.identificationModule.briefTitle,protocolSection.identificationModule.officialTitle,protocolSection.descriptionModule.briefSummary,protocolSection.statusModule.overallStatus,protocolSection.statusModule.startDateStruct.date,protocolSection.statusModule.primaryCompletionDateStruct.date,protocolSection.designModule.studyType,protocolSection.designModule.phases,protocolSection.designModule.enrollmentInfo.count,protocolSection.outcomesModule.primaryOutcomes,protocolSection.outcomesModule.secondaryOutcomes,protocolSection.outcomesModule.otherOutcomes\n",
      "Error fetching data: 400 Client Error: Bad Request for url: https://clinicaltrials.gov/api/v2/studies/GSE214474?fields=protocolSection.identificationModule.briefTitle,protocolSection.identificationModule.officialTitle,protocolSection.descriptionModule.briefSummary,protocolSection.statusModule.overallStatus,protocolSection.statusModule.startDateStruct.date,protocolSection.statusModule.primaryCompletionDateStruct.date,protocolSection.designModule.studyType,protocolSection.designModule.phases,protocolSection.designModule.enrollmentInfo.count,protocolSection.outcomesModule.primaryOutcomes,protocolSection.outcomesModule.secondaryOutcomes,protocolSection.outcomesModule.otherOutcomes\n",
      "Error fetching data: 404 Client Error: Not Found for url: https://clinicaltrials.gov/api/v2/studies/10.6084/m9.figshare.c.6251484?fields=protocolSection.identificationModule.briefTitle,protocolSection.identificationModule.officialTitle,protocolSection.descriptionModule.briefSummary,protocolSection.statusModule.overallStatus,protocolSection.statusModule.startDateStruct.date,protocolSection.statusModule.primaryCompletionDateStruct.date,protocolSection.designModule.studyType,protocolSection.designModule.phases,protocolSection.designModule.enrollmentInfo.count,protocolSection.outcomesModule.primaryOutcomes,protocolSection.outcomesModule.secondaryOutcomes,protocolSection.outcomesModule.otherOutcomes\n",
      "Error fetching data: 400 Client Error: Bad Request for url: https://clinicaltrials.gov/api/v2/studies/GSE202230?fields=protocolSection.identificationModule.briefTitle,protocolSection.identificationModule.officialTitle,protocolSection.descriptionModule.briefSummary,protocolSection.statusModule.overallStatus,protocolSection.statusModule.startDateStruct.date,protocolSection.statusModule.primaryCompletionDateStruct.date,protocolSection.designModule.studyType,protocolSection.designModule.phases,protocolSection.designModule.enrollmentInfo.count,protocolSection.outcomesModule.primaryOutcomes,protocolSection.outcomesModule.secondaryOutcomes,protocolSection.outcomesModule.otherOutcomes\n",
      "Error fetching data: 400 Client Error: Bad Request for url: https://clinicaltrials.gov/api/v2/studies/GSE163478?fields=protocolSection.identificationModule.briefTitle,protocolSection.identificationModule.officialTitle,protocolSection.descriptionModule.briefSummary,protocolSection.statusModule.overallStatus,protocolSection.statusModule.startDateStruct.date,protocolSection.statusModule.primaryCompletionDateStruct.date,protocolSection.designModule.studyType,protocolSection.designModule.phases,protocolSection.designModule.enrollmentInfo.count,protocolSection.outcomesModule.primaryOutcomes,protocolSection.outcomesModule.secondaryOutcomes,protocolSection.outcomesModule.otherOutcomes\n",
      "Error fetching data: 400 Client Error: Bad Request for url: https://clinicaltrials.gov/api/v2/studies/GSE114922?fields=protocolSection.identificationModule.briefTitle,protocolSection.identificationModule.officialTitle,protocolSection.descriptionModule.briefSummary,protocolSection.statusModule.overallStatus,protocolSection.statusModule.startDateStruct.date,protocolSection.statusModule.primaryCompletionDateStruct.date,protocolSection.designModule.studyType,protocolSection.designModule.phases,protocolSection.designModule.enrollmentInfo.count,protocolSection.outcomesModule.primaryOutcomes,protocolSection.outcomesModule.secondaryOutcomes,protocolSection.outcomesModule.otherOutcomes\n",
      "Error fetching data: 404 Client Error: Not Found for url: https://clinicaltrials.gov/api/v2/studies/10.5061/dryad.zgmsbccdc?fields=protocolSection.identificationModule.briefTitle,protocolSection.identificationModule.officialTitle,protocolSection.descriptionModule.briefSummary,protocolSection.statusModule.overallStatus,protocolSection.statusModule.startDateStruct.date,protocolSection.statusModule.primaryCompletionDateStruct.date,protocolSection.designModule.studyType,protocolSection.designModule.phases,protocolSection.designModule.enrollmentInfo.count,protocolSection.outcomesModule.primaryOutcomes,protocolSection.outcomesModule.secondaryOutcomes,protocolSection.outcomesModule.otherOutcomes\n",
      "Error fetching data: 404 Client Error: Not Found for url: https://clinicaltrials.gov/api/v2/studies/10.6084/m9.figshare.19688673?fields=protocolSection.identificationModule.briefTitle,protocolSection.identificationModule.officialTitle,protocolSection.descriptionModule.briefSummary,protocolSection.statusModule.overallStatus,protocolSection.statusModule.startDateStruct.date,protocolSection.statusModule.primaryCompletionDateStruct.date,protocolSection.designModule.studyType,protocolSection.designModule.phases,protocolSection.designModule.enrollmentInfo.count,protocolSection.outcomesModule.primaryOutcomes,protocolSection.outcomesModule.secondaryOutcomes,protocolSection.outcomesModule.otherOutcomes\n",
      "Error fetching data: 400 Client Error: Bad Request for url: https://clinicaltrials.gov/api/v2/studies/GSE150175?fields=protocolSection.identificationModule.briefTitle,protocolSection.identificationModule.officialTitle,protocolSection.descriptionModule.briefSummary,protocolSection.statusModule.overallStatus,protocolSection.statusModule.startDateStruct.date,protocolSection.statusModule.primaryCompletionDateStruct.date,protocolSection.designModule.studyType,protocolSection.designModule.phases,protocolSection.designModule.enrollmentInfo.count,protocolSection.outcomesModule.primaryOutcomes,protocolSection.outcomesModule.secondaryOutcomes,protocolSection.outcomesModule.otherOutcomes\n",
      "Error fetching data: 400 Client Error: Bad Request for url: https://clinicaltrials.gov/api/v2/studies/ChiCTR-OPC-15006085?fields=protocolSection.identificationModule.briefTitle,protocolSection.identificationModule.officialTitle,protocolSection.descriptionModule.briefSummary,protocolSection.statusModule.overallStatus,protocolSection.statusModule.startDateStruct.date,protocolSection.statusModule.primaryCompletionDateStruct.date,protocolSection.designModule.studyType,protocolSection.designModule.phases,protocolSection.designModule.enrollmentInfo.count,protocolSection.outcomesModule.primaryOutcomes,protocolSection.outcomesModule.secondaryOutcomes,protocolSection.outcomesModule.otherOutcomes\n"
     ]
    }
   ],
   "source": [
    "df = articles_df.join(articles_df['Accession'].apply(get_clinical_trial).apply(pd.Series))"
   ]
  },
  {
   "cell_type": "code",
   "execution_count": 55,
   "metadata": {},
   "outputs": [],
   "source": [
    "df.to_csv(\"lit_search_articles_since_2022_with_trials.csv\", index=False)"
   ]
  },
  {
   "cell_type": "code",
   "execution_count": 68,
   "metadata": {},
   "outputs": [],
   "source": [
    "import re \n",
    "\n",
    "matches_df = pd.DataFrame({\n",
    "    \"primaryOutcomes\": df[\"primaryOutcomes\"].str.extractall(r\"\\b(\"+\"|\".join([\"mrd\", \"minimal residual disease\", \"measurable residual disease\"])+r\"\\b)\", flags=re.IGNORECASE).value_counts(),\n",
    "    \"secondaryOutcomes\": df[\"secondaryOutcomes\"].str.extractall(r\"\\b(\"+\"|\".join([\"mrd\", \"minimal residual disease\", \"measurable residual disease\"])+r\"\\b)\", flags=re.IGNORECASE).value_counts(),\n",
    "    \"otherOutcomes\": df[\"otherOutcomes\"].str.extractall(r\"\\b(\"+\"|\".join([\"mrd\", \"minimal residual disease\", \"measurable residual disease\"])+r\"\\b)\", flags=re.IGNORECASE).value_counts()\n",
    "})"
   ]
  },
  {
   "cell_type": "code",
   "execution_count": 69,
   "metadata": {},
   "outputs": [
    {
     "data": {
      "text/html": [
       "<div>\n",
       "<style scoped>\n",
       "    .dataframe tbody tr th:only-of-type {\n",
       "        vertical-align: middle;\n",
       "    }\n",
       "\n",
       "    .dataframe tbody tr th {\n",
       "        vertical-align: top;\n",
       "    }\n",
       "\n",
       "    .dataframe thead th {\n",
       "        text-align: right;\n",
       "    }\n",
       "</style>\n",
       "<table border=\"1\" class=\"dataframe\">\n",
       "  <thead>\n",
       "    <tr style=\"text-align: right;\">\n",
       "      <th></th>\n",
       "      <th>primaryOutcomes</th>\n",
       "      <th>secondaryOutcomes</th>\n",
       "      <th>otherOutcomes</th>\n",
       "    </tr>\n",
       "    <tr>\n",
       "      <th>0</th>\n",
       "      <th></th>\n",
       "      <th></th>\n",
       "      <th></th>\n",
       "    </tr>\n",
       "  </thead>\n",
       "  <tbody>\n",
       "    <tr>\n",
       "      <th>MRD</th>\n",
       "      <td>15.0</td>\n",
       "      <td>94</td>\n",
       "      <td>4.0</td>\n",
       "    </tr>\n",
       "    <tr>\n",
       "      <th>Measurable residual disease</th>\n",
       "      <td>NaN</td>\n",
       "      <td>5</td>\n",
       "      <td>NaN</td>\n",
       "    </tr>\n",
       "    <tr>\n",
       "      <th>Minimal Residual Disease</th>\n",
       "      <td>1.0</td>\n",
       "      <td>24</td>\n",
       "      <td>NaN</td>\n",
       "    </tr>\n",
       "    <tr>\n",
       "      <th>Minimal residual disease</th>\n",
       "      <td>1.0</td>\n",
       "      <td>3</td>\n",
       "      <td>2.0</td>\n",
       "    </tr>\n",
       "    <tr>\n",
       "      <th>measurable residual disease</th>\n",
       "      <td>2.0</td>\n",
       "      <td>3</td>\n",
       "      <td>NaN</td>\n",
       "    </tr>\n",
       "    <tr>\n",
       "      <th>minimal residual disease</th>\n",
       "      <td>3.0</td>\n",
       "      <td>11</td>\n",
       "      <td>NaN</td>\n",
       "    </tr>\n",
       "  </tbody>\n",
       "</table>\n",
       "</div>"
      ],
      "text/plain": [
       "                             primaryOutcomes  secondaryOutcomes  otherOutcomes\n",
       "0                                                                             \n",
       "MRD                                     15.0                 94            4.0\n",
       "Measurable residual disease              NaN                  5            NaN\n",
       "Minimal Residual Disease                 1.0                 24            NaN\n",
       "Minimal residual disease                 1.0                  3            2.0\n",
       "measurable residual disease              2.0                  3            NaN\n",
       "minimal residual disease                 3.0                 11            NaN"
      ]
     },
     "execution_count": 69,
     "metadata": {},
     "output_type": "execute_result"
    }
   ],
   "source": [
    "matches_df"
   ]
  }
 ],
 "metadata": {
  "kernelspec": {
   "display_name": ".venv",
   "language": "python",
   "name": "python3"
  },
  "language_info": {
   "codemirror_mode": {
    "name": "ipython",
    "version": 3
   },
   "file_extension": ".py",
   "mimetype": "text/x-python",
   "name": "python",
   "nbconvert_exporter": "python",
   "pygments_lexer": "ipython3",
   "version": "3.12.7"
  }
 },
 "nbformat": 4,
 "nbformat_minor": 2
}
